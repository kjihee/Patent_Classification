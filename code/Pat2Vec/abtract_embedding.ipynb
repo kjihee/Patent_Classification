{
 "cells": [
  {
   "cell_type": "code",
   "execution_count": 1,
   "metadata": {
    "collapsed": true
   },
   "outputs": [],
   "source": [
    "from text2vec0 import text2vec\n",
    "import pandas as pd\n",
    "import numpy as np"
   ]
  },
  {
   "cell_type": "code",
   "execution_count": 2,
   "metadata": {
    "collapsed": true
   },
   "outputs": [],
   "source": [
    "import matplotlib.pyplot as plt\n",
    "from matplotlib import style"
   ]
  },
  {
   "cell_type": "code",
   "execution_count": 3,
   "metadata": {
    "collapsed": true
   },
   "outputs": [],
   "source": [
    "from sklearn.utils.linear_assignment_ import linear_assignment\n",
    "from sklearn.cluster import KMeans"
   ]
  },
  {
   "cell_type": "markdown",
   "metadata": {},
   "source": [
    "### abstract doc2vec"
   ]
  },
  {
   "cell_type": "code",
   "execution_count": 4,
   "metadata": {
    "collapsed": true
   },
   "outputs": [],
   "source": [
    "from importlib import reload\n",
    "import text2vec0\n",
    "reload(text2vec0)\n",
    "from text2vec0 import text2vec"
   ]
  },
  {
   "cell_type": "code",
   "execution_count": 5,
   "metadata": {
    "collapsed": true
   },
   "outputs": [],
   "source": [
    "import pickle\n",
    "from sklearn.model_selection import train_test_split"
   ]
  },
  {
   "cell_type": "code",
   "execution_count": 6,
   "metadata": {
    "collapsed": true
   },
   "outputs": [],
   "source": [
    "obesity = pd.read_csv('obesity_text.tsv', sep='\\t')  # 원본 데이터"
   ]
  },
  {
   "cell_type": "code",
   "execution_count": 7,
   "metadata": {
    "collapsed": true
   },
   "outputs": [],
   "source": [
    "obesity['claim'] = obesity['claim'].str[2:]  # claim 번호 삭제"
   ]
  },
  {
   "cell_type": "code",
   "execution_count": 7,
   "metadata": {},
   "outputs": [
    {
     "data": {
      "text/plain": [
       "(148, 5)"
      ]
     },
     "execution_count": 7,
     "metadata": {},
     "output_type": "execute_result"
    }
   ],
   "source": [
    "obesity.shape"
   ]
  },
  {
   "cell_type": "code",
   "execution_count": 8,
   "metadata": {},
   "outputs": [
    {
     "data": {
      "text/html": [
       "<div>\n",
       "<style>\n",
       "    .dataframe thead tr:only-child th {\n",
       "        text-align: right;\n",
       "    }\n",
       "\n",
       "    .dataframe thead th {\n",
       "        text-align: left;\n",
       "    }\n",
       "\n",
       "    .dataframe tbody tr th {\n",
       "        vertical-align: top;\n",
       "    }\n",
       "</style>\n",
       "<table border=\"1\" class=\"dataframe\">\n",
       "  <thead>\n",
       "    <tr style=\"text-align: right;\">\n",
       "      <th></th>\n",
       "      <th>patent_id</th>\n",
       "      <th>title</th>\n",
       "      <th>claim</th>\n",
       "      <th>abstract</th>\n",
       "      <th>class</th>\n",
       "    </tr>\n",
       "  </thead>\n",
       "  <tbody>\n",
       "    <tr>\n",
       "      <th>0</th>\n",
       "      <td>3951745</td>\n",
       "      <td>Glycoside-hydrolase enzyme inhibitors</td>\n",
       "      <td>A method for the production of an inhibitor o...</td>\n",
       "      <td>This invention relates to inhibitors for glyco...</td>\n",
       "      <td>1AA</td>\n",
       "    </tr>\n",
       "    <tr>\n",
       "      <th>1</th>\n",
       "      <td>3995026</td>\n",
       "      <td>Amylase inhibitor</td>\n",
       "      <td>A pharmaceutical composition comprising an ad...</td>\n",
       "      <td>The invention relates to an amylase inhibitor ...</td>\n",
       "      <td>1AA</td>\n",
       "    </tr>\n",
       "    <tr>\n",
       "      <th>2</th>\n",
       "      <td>4013510</td>\n",
       "      <td>Glycoside-hydrolase enzyme inhibitors</td>\n",
       "      <td>A method of inhibiting the reaction of carboh...</td>\n",
       "      <td>This invention relates to inhibitors for glyco...</td>\n",
       "      <td>1AA</td>\n",
       "    </tr>\n",
       "    <tr>\n",
       "      <th>3</th>\n",
       "      <td>4042687</td>\n",
       "      <td>Method of treating obesity by the oral adminis...</td>\n",
       "      <td>A method of treating obesity which comprises ...</td>\n",
       "      <td>A method of preventing obesity which comprises...</td>\n",
       "      <td>1AA</td>\n",
       "    </tr>\n",
       "    <tr>\n",
       "      <th>4</th>\n",
       "      <td>4115587</td>\n",
       "      <td>Fatty acid amides of norfenfluramine and compo...</td>\n",
       "      <td>A fatty acid amide of norfenfluramine having ...</td>\n",
       "      <td>Novel amides of norfenfluramine having the for...</td>\n",
       "      <td>1AB</td>\n",
       "    </tr>\n",
       "    <tr>\n",
       "      <th>5</th>\n",
       "      <td>4211765</td>\n",
       "      <td>Method for controlling obesity</td>\n",
       "      <td>A method of countering a tendency toward obes...</td>\n",
       "      <td>The invention involves a method of weight cont...</td>\n",
       "      <td>1BA</td>\n",
       "    </tr>\n",
       "    <tr>\n",
       "      <th>6</th>\n",
       "      <td>4442113</td>\n",
       "      <td>Long-term weight reduction of obese patients u...</td>\n",
       "      <td>The method of reducing appetite to obtain wei...</td>\n",
       "      <td>A method for assisting with appetite and weigh...</td>\n",
       "      <td>1AB</td>\n",
       "    </tr>\n",
       "    <tr>\n",
       "      <th>7</th>\n",
       "      <td>4634795</td>\n",
       "      <td>Long-chain .alpha.,.omega.-di-carboxylic acids...</td>\n",
       "      <td>A compound of the formula  wherein X is hydro...</td>\n",
       "      <td>A novel class of compounds has been found to b...</td>\n",
       "      <td>1BB</td>\n",
       "    </tr>\n",
       "    <tr>\n",
       "      <th>8</th>\n",
       "      <td>4689344</td>\n",
       "      <td>Long-chain .alpha.,.omega.-dicarboxylic acids ...</td>\n",
       "      <td>A pharmaceutical composition comprising, as a...</td>\n",
       "      <td>A novel class of compounds has been found to b...</td>\n",
       "      <td>1BB</td>\n",
       "    </tr>\n",
       "    <tr>\n",
       "      <th>9</th>\n",
       "      <td>5109006</td>\n",
       "      <td>Certain pharmaceutically active 6H-imidazo[1,2...</td>\n",
       "      <td>A compound of the formula  their enantiomers ...</td>\n",
       "      <td>This invention relates to novel derivatives of...</td>\n",
       "      <td>1AB</td>\n",
       "    </tr>\n",
       "    <tr>\n",
       "      <th>10</th>\n",
       "      <td>5240962</td>\n",
       "      <td>Antiobesity and fat-reducing agents</td>\n",
       "      <td>A method of treating obesity in an animal whi...</td>\n",
       "      <td>An antiobesity and fat-reducing composition an...</td>\n",
       "      <td>1AA</td>\n",
       "    </tr>\n",
       "    <tr>\n",
       "      <th>11</th>\n",
       "      <td>5246723</td>\n",
       "      <td>Material for food and method for production th...</td>\n",
       "      <td>A material which can be used to make a food a...</td>\n",
       "      <td>A material for food of slow digestive absorpti...</td>\n",
       "      <td>1AA</td>\n",
       "    </tr>\n",
       "    <tr>\n",
       "      <th>12</th>\n",
       "      <td>5296481</td>\n",
       "      <td>Treatment process for promoting weight loss em...</td>\n",
       "      <td>A method of preventatively treating weight ga...</td>\n",
       "      <td>A method for controlling weight gain or promot...</td>\n",
       "      <td>1BD</td>\n",
       "    </tr>\n",
       "    <tr>\n",
       "      <th>13</th>\n",
       "      <td>5330779</td>\n",
       "      <td>Material for food and method for production th...</td>\n",
       "      <td>A food additive material which is slowly adso...</td>\n",
       "      <td>A material for food of slow digestion and abso...</td>\n",
       "      <td>1AA</td>\n",
       "    </tr>\n",
       "    <tr>\n",
       "      <th>14</th>\n",
       "      <td>5376640</td>\n",
       "      <td>Lipolytic enzyme inhibitors</td>\n",
       "      <td>A method of inhibiting enzymatic hydrolysis o...</td>\n",
       "      <td>A method of inhibiting enzymatic hydrolysis of...</td>\n",
       "      <td>1BA</td>\n",
       "    </tr>\n",
       "    <tr>\n",
       "      <th>15</th>\n",
       "      <td>5411956</td>\n",
       "      <td>Lipolytic enzyme inhibitors</td>\n",
       "      <td>A composition which inhibits enzymatic hydrol...</td>\n",
       "      <td>A lipolytic enzyme inhibitor is disclosed whic...</td>\n",
       "      <td>1BA</td>\n",
       "    </tr>\n",
       "    <tr>\n",
       "      <th>16</th>\n",
       "      <td>5453282</td>\n",
       "      <td>Dietary lipid digestion-absorption inhibitory ...</td>\n",
       "      <td>A method for treating obesity in a mammal to ...</td>\n",
       "      <td>Disclosed herein are dietary lipid digestion-a...</td>\n",
       "      <td>1BA</td>\n",
       "    </tr>\n",
       "    <tr>\n",
       "      <th>17</th>\n",
       "      <td>5474991</td>\n",
       "      <td>Lipid metabolism improving medicinal composition</td>\n",
       "      <td>A method of improving lipid metabolism in hum...</td>\n",
       "      <td>This invention relates to a lipid metabolism i...</td>\n",
       "      <td>1BD</td>\n",
       "    </tr>\n",
       "    <tr>\n",
       "      <th>18</th>\n",
       "      <td>5496831</td>\n",
       "      <td>Inhibition of insulin-induced adiposis</td>\n",
       "      <td>A method of treating obesity caused by hyperi...</td>\n",
       "      <td>The invention features methods of treating ins...</td>\n",
       "      <td>1BD</td>\n",
       "    </tr>\n",
       "    <tr>\n",
       "      <th>19</th>\n",
       "      <td>5521283</td>\n",
       "      <td>Anti-obesity proteins</td>\n",
       "      <td>A biologically active peptide consisting of t...</td>\n",
       "      <td>The present invention provides anti-obesity pr...</td>\n",
       "      <td>1BD</td>\n",
       "    </tr>\n",
       "    <tr>\n",
       "      <th>20</th>\n",
       "      <td>5525705</td>\n",
       "      <td>Anti-obesity proteins</td>\n",
       "      <td>A biologically active peptide of the formula:...</td>\n",
       "      <td>The present invention provides anti-obesity pr...</td>\n",
       "      <td>1BD</td>\n",
       "    </tr>\n",
       "    <tr>\n",
       "      <th>21</th>\n",
       "      <td>5532336</td>\n",
       "      <td>Anti-obesity proteins</td>\n",
       "      <td>A biologically active peptide of the formula:...</td>\n",
       "      <td>The present invention provides anti-obesity pr...</td>\n",
       "      <td>1BD</td>\n",
       "    </tr>\n",
       "    <tr>\n",
       "      <th>22</th>\n",
       "      <td>5552522</td>\n",
       "      <td>Anti-obesity proteins</td>\n",
       "      <td>A biologically active peptide of the formula:...</td>\n",
       "      <td>The present invention provides anti-obesity pr...</td>\n",
       "      <td>1BD</td>\n",
       "    </tr>\n",
       "    <tr>\n",
       "      <th>23</th>\n",
       "      <td>5552523</td>\n",
       "      <td>Anti-obesity proteins</td>\n",
       "      <td>A protein comprising the amino acids of posit...</td>\n",
       "      <td>The present invention provides anti-obesity pr...</td>\n",
       "      <td>1BD</td>\n",
       "    </tr>\n",
       "    <tr>\n",
       "      <th>24</th>\n",
       "      <td>5552524</td>\n",
       "      <td>Anti-obesity proteins</td>\n",
       "      <td>A protein comprising the amino acids of posit...</td>\n",
       "      <td>The present invention provides anti-obesity pr...</td>\n",
       "      <td>1BD</td>\n",
       "    </tr>\n",
       "    <tr>\n",
       "      <th>25</th>\n",
       "      <td>5554727</td>\n",
       "      <td>Anti-obesity proteins</td>\n",
       "      <td>A protein comprising the amino acids of posit...</td>\n",
       "      <td>[PAL  ]The present invention provides anti-obe...</td>\n",
       "      <td>1BD</td>\n",
       "    </tr>\n",
       "    <tr>\n",
       "      <th>26</th>\n",
       "      <td>5559208</td>\n",
       "      <td>Anti-obesity proteins</td>\n",
       "      <td>A protein comprising the amino acids of posit...</td>\n",
       "      <td>The present invention provides anti-obesity pr...</td>\n",
       "      <td>1BD</td>\n",
       "    </tr>\n",
       "    <tr>\n",
       "      <th>27</th>\n",
       "      <td>5563243</td>\n",
       "      <td>Anti-obesity proteins</td>\n",
       "      <td>A biologically active peptide of the formula:...</td>\n",
       "      <td>The present invention provides anti-obesity pr...</td>\n",
       "      <td>1BD</td>\n",
       "    </tr>\n",
       "    <tr>\n",
       "      <th>28</th>\n",
       "      <td>5563245</td>\n",
       "      <td>Anti-obesity proteins</td>\n",
       "      <td>A biologically active peptide of the formula:...</td>\n",
       "      <td>The present invention provides anti-obesity pr...</td>\n",
       "      <td>1BD</td>\n",
       "    </tr>\n",
       "    <tr>\n",
       "      <th>29</th>\n",
       "      <td>5567678</td>\n",
       "      <td>Anti-obesity proteins</td>\n",
       "      <td>A protein of the formula: SEQ ID NO: 1 or a p...</td>\n",
       "      <td>The present invention provides anti-obesity pr...</td>\n",
       "      <td>1BD</td>\n",
       "    </tr>\n",
       "    <tr>\n",
       "      <th>...</th>\n",
       "      <td>...</td>\n",
       "      <td>...</td>\n",
       "      <td>...</td>\n",
       "      <td>...</td>\n",
       "      <td>...</td>\n",
       "    </tr>\n",
       "    <tr>\n",
       "      <th>118</th>\n",
       "      <td>7244727</td>\n",
       "      <td>Fused bicyclic nitrogen-containing heterocycles</td>\n",
       "      <td>A compound of formula (I):or a pharmaceutical...</td>\n",
       "      <td>Compounds, pharmaceutical compositions and met...</td>\n",
       "      <td>1BB</td>\n",
       "    </tr>\n",
       "    <tr>\n",
       "      <th>119</th>\n",
       "      <td>7279470</td>\n",
       "      <td>Compounds and uses thereof for decreasing acti...</td>\n",
       "      <td>A compound of formula  wherein E is selected ...</td>\n",
       "      <td>Use of compounds to inhibit hormone-sensitive ...</td>\n",
       "      <td>1AB</td>\n",
       "    </tr>\n",
       "    <tr>\n",
       "      <th>120</th>\n",
       "      <td>7291607</td>\n",
       "      <td>Isomaltooligosaccharides from</td>\n",
       "      <td>A method for inhibiting α-glucosidase in a su...</td>\n",
       "      <td>Isomaltooligosaccharides (IMOs) produced by  L...</td>\n",
       "      <td>1AA</td>\n",
       "    </tr>\n",
       "    <tr>\n",
       "      <th>121</th>\n",
       "      <td>7323480</td>\n",
       "      <td>Substituted triazoles as modulators of PPAR an...</td>\n",
       "      <td>A compound having the formula:wherein  Ar  1 ...</td>\n",
       "      <td>The present invention is directed to certain n...</td>\n",
       "      <td>1BD</td>\n",
       "    </tr>\n",
       "    <tr>\n",
       "      <th>122</th>\n",
       "      <td>7342127</td>\n",
       "      <td>Substituted anilide ligands for the thyroid re...</td>\n",
       "      <td>A compound having the following Formula I:whe...</td>\n",
       "      <td>Novel thyroid receptor ligands are provided ha...</td>\n",
       "      <td>1BC</td>\n",
       "    </tr>\n",
       "    <tr>\n",
       "      <th>123</th>\n",
       "      <td>7344843</td>\n",
       "      <td>Agonists and antagonists of prolixin for the t...</td>\n",
       "      <td>A method of screening a candidate compound fo...</td>\n",
       "      <td>The present invention relates to the field of ...</td>\n",
       "      <td>1BD</td>\n",
       "    </tr>\n",
       "    <tr>\n",
       "      <th>124</th>\n",
       "      <td>7348338</td>\n",
       "      <td>PPAR active compounds</td>\n",
       "      <td>A method for treating a patient suffering fro...</td>\n",
       "      <td>Compounds are described that are active on PPA...</td>\n",
       "      <td>1BD</td>\n",
       "    </tr>\n",
       "    <tr>\n",
       "      <th>125</th>\n",
       "      <td>7361783</td>\n",
       "      <td>(2S)-2-ethylphenylpropionic acid derivative</td>\n",
       "      <td>A (2S)-2-Ethylphenylpropanoic acid compound r...</td>\n",
       "      <td>The invention provides novel (2S)-2-ethylpheny...</td>\n",
       "      <td>1BC</td>\n",
       "    </tr>\n",
       "    <tr>\n",
       "      <th>126</th>\n",
       "      <td>7368433</td>\n",
       "      <td>Peptides and methods for the control of obesity</td>\n",
       "      <td>A peptide derivative having the formula: X  1...</td>\n",
       "      <td>The subject invention provides novel peptides ...</td>\n",
       "      <td>1AB</td>\n",
       "    </tr>\n",
       "    <tr>\n",
       "      <th>127</th>\n",
       "      <td>7371759</td>\n",
       "      <td>HMG-CoA reductase inhibitors and method</td>\n",
       "      <td>A compound of the formulawherein X is N;  R  ...</td>\n",
       "      <td>Compounds are provided having the following st...</td>\n",
       "      <td>1BB</td>\n",
       "    </tr>\n",
       "    <tr>\n",
       "      <th>128</th>\n",
       "      <td>7407674</td>\n",
       "      <td>Lipolysis promoter and food-and-drink and feed...</td>\n",
       "      <td>A lipolysis promoter blend comprising a lipol...</td>\n",
       "      <td>A naturally-derived lipolysis promoter with hi...</td>\n",
       "      <td>1BC</td>\n",
       "    </tr>\n",
       "    <tr>\n",
       "      <th>129</th>\n",
       "      <td>7407954</td>\n",
       "      <td>Thieno-(1,3)-oxazin-4-ones with lipase inhibit...</td>\n",
       "      <td>A compound of formula (Ia)or a pharmaceutical...</td>\n",
       "      <td>The use of a compound comprising formula (I), ...</td>\n",
       "      <td>1BA</td>\n",
       "    </tr>\n",
       "    <tr>\n",
       "      <th>130</th>\n",
       "      <td>7423156</td>\n",
       "      <td>Preparation and use of aryl alkyl acid derivat...</td>\n",
       "      <td>A compound of Formula (I)wherein  Q is O or S...</td>\n",
       "      <td>This invention relates to certain aryl alkyl a...</td>\n",
       "      <td>1BB</td>\n",
       "    </tr>\n",
       "    <tr>\n",
       "      <th>131</th>\n",
       "      <td>7476746</td>\n",
       "      <td>PPAR active compounds</td>\n",
       "      <td>A compound having the formulaor a pharmaceuti...</td>\n",
       "      <td>Compounds are described that are active on PPA...</td>\n",
       "      <td>1BD</td>\n",
       "    </tr>\n",
       "    <tr>\n",
       "      <th>132</th>\n",
       "      <td>7482358</td>\n",
       "      <td>Imidazoline compounds</td>\n",
       "      <td>A compound represented by the general formula...</td>\n",
       "      <td>Compounds represented by the general formula (...</td>\n",
       "      <td>1AB</td>\n",
       "    </tr>\n",
       "    <tr>\n",
       "      <th>133</th>\n",
       "      <td>7491831</td>\n",
       "      <td>PPAR active compounds</td>\n",
       "      <td>A compound having the formulaor a pharmaceuti...</td>\n",
       "      <td>Compounds are described that are active on PPA...</td>\n",
       "      <td>1BD</td>\n",
       "    </tr>\n",
       "    <tr>\n",
       "      <th>134</th>\n",
       "      <td>7495020</td>\n",
       "      <td>2-aryloxy-2-arylalkanoic acids for diabetes an...</td>\n",
       "      <td>A compound having the formula I:including pha...</td>\n",
       "      <td>A class of 2-aryloxy-2-arylalkanoic acids comp...</td>\n",
       "      <td>1BD</td>\n",
       "    </tr>\n",
       "    <tr>\n",
       "      <th>135</th>\n",
       "      <td>7538137</td>\n",
       "      <td>1-O-&amp;#x3b2;-D-glucopyranosylgeraniol-10,5-olid...</td>\n",
       "      <td>An isolated compound according to formula (1)</td>\n",
       "      <td>A novel natural compound having various therap...</td>\n",
       "      <td>1BD</td>\n",
       "    </tr>\n",
       "    <tr>\n",
       "      <th>136</th>\n",
       "      <td>7553502</td>\n",
       "      <td>Formulations of alpha-amylase inhibitors with ...</td>\n",
       "      <td>A formulation consisting of (i)  Phaseolus vu...</td>\n",
       "      <td>This invention relates to the combination of &amp;...</td>\n",
       "      <td>1AA</td>\n",
       "    </tr>\n",
       "    <tr>\n",
       "      <th>137</th>\n",
       "      <td>7557143</td>\n",
       "      <td>Thyroid receptor ligands</td>\n",
       "      <td>A compound of the following formula  wherein ...</td>\n",
       "      <td>Thyroid receptor ligands are provided which ha...</td>\n",
       "      <td>1BC</td>\n",
       "    </tr>\n",
       "    <tr>\n",
       "      <th>138</th>\n",
       "      <td>7572806</td>\n",
       "      <td>PPAR active compounds</td>\n",
       "      <td>A method for treating a patient suffering fro...</td>\n",
       "      <td>Compounds are described that are active on PPA...</td>\n",
       "      <td>1BD</td>\n",
       "    </tr>\n",
       "    <tr>\n",
       "      <th>139</th>\n",
       "      <td>7579027</td>\n",
       "      <td>Composition for treating obesity comprising ex...</td>\n",
       "      <td>A composition comprising  an extract from whi...</td>\n",
       "      <td>The present invention is for composition conta...</td>\n",
       "      <td>1BD</td>\n",
       "    </tr>\n",
       "    <tr>\n",
       "      <th>140</th>\n",
       "      <td>7582633</td>\n",
       "      <td>Azacycloalkane derivatives as inhibitors of st...</td>\n",
       "      <td>A compound of structural formula I:or a pharm...</td>\n",
       "      <td>Azacycloalkane derivatives of structural formu...</td>\n",
       "      <td>1BB</td>\n",
       "    </tr>\n",
       "    <tr>\n",
       "      <th>141</th>\n",
       "      <td>7592477</td>\n",
       "      <td>Substituted methylene amide derivatives as mod...</td>\n",
       "      <td>A substituted methylene amide of Formula (I):...</td>\n",
       "      <td>The present invention is related to substitute...</td>\n",
       "      <td>1BD</td>\n",
       "    </tr>\n",
       "    <tr>\n",
       "      <th>142</th>\n",
       "      <td>7618940</td>\n",
       "      <td>Fat regulation</td>\n",
       "      <td>A method for treating obesity in an obese sub...</td>\n",
       "      <td>The present invention provides methods and com...</td>\n",
       "      <td>1BD</td>\n",
       "    </tr>\n",
       "    <tr>\n",
       "      <th>143</th>\n",
       "      <td>7635705</td>\n",
       "      <td>Heteroatom-linked substituted piperidines and ...</td>\n",
       "      <td>A compound represented by the structural form...</td>\n",
       "      <td>Disclosed are novel compounds of the formula  ...</td>\n",
       "      <td>1AB</td>\n",
       "    </tr>\n",
       "    <tr>\n",
       "      <th>144</th>\n",
       "      <td>7655690</td>\n",
       "      <td>1-sulfonylindole derivatives, their preparatio...</td>\n",
       "      <td>A sulfonamide of general formula (Ia),  where...</td>\n",
       "      <td>The present invention refers to new sulfonamid...</td>\n",
       "      <td>1AB</td>\n",
       "    </tr>\n",
       "    <tr>\n",
       "      <th>145</th>\n",
       "      <td>7687085</td>\n",
       "      <td>Anti-obestic composition</td>\n",
       "      <td>A method of inhibiting visceral lipid storage...</td>\n",
       "      <td>The composition of the present invention compr...</td>\n",
       "      <td>1BB</td>\n",
       "    </tr>\n",
       "    <tr>\n",
       "      <th>146</th>\n",
       "      <td>7704979</td>\n",
       "      <td>Materials and methods for the treatment or pre...</td>\n",
       "      <td>A method of regulating body weight comprising...</td>\n",
       "      <td>The subject invention provides methods of indu...</td>\n",
       "      <td>1BD</td>\n",
       "    </tr>\n",
       "    <tr>\n",
       "      <th>147</th>\n",
       "      <td>RE39916</td>\n",
       "      <td>Compounds that modulate PPAR activity and meth...</td>\n",
       "      <td>. A method of treating or controlling non-insu...</td>\n",
       "      <td>This invention discloses compounds that alter ...</td>\n",
       "      <td>1BD</td>\n",
       "    </tr>\n",
       "  </tbody>\n",
       "</table>\n",
       "<p>148 rows × 5 columns</p>\n",
       "</div>"
      ],
      "text/plain": [
       "    patent_id                                              title  \\\n",
       "0     3951745              Glycoside-hydrolase enzyme inhibitors   \n",
       "1     3995026                                  Amylase inhibitor   \n",
       "2     4013510              Glycoside-hydrolase enzyme inhibitors   \n",
       "3     4042687  Method of treating obesity by the oral adminis...   \n",
       "4     4115587  Fatty acid amides of norfenfluramine and compo...   \n",
       "5     4211765                     Method for controlling obesity   \n",
       "6     4442113  Long-term weight reduction of obese patients u...   \n",
       "7     4634795  Long-chain .alpha.,.omega.-di-carboxylic acids...   \n",
       "8     4689344  Long-chain .alpha.,.omega.-dicarboxylic acids ...   \n",
       "9     5109006  Certain pharmaceutically active 6H-imidazo[1,2...   \n",
       "10    5240962                Antiobesity and fat-reducing agents   \n",
       "11    5246723  Material for food and method for production th...   \n",
       "12    5296481  Treatment process for promoting weight loss em...   \n",
       "13    5330779  Material for food and method for production th...   \n",
       "14    5376640                        Lipolytic enzyme inhibitors   \n",
       "15    5411956                        Lipolytic enzyme inhibitors   \n",
       "16    5453282  Dietary lipid digestion-absorption inhibitory ...   \n",
       "17    5474991   Lipid metabolism improving medicinal composition   \n",
       "18    5496831             Inhibition of insulin-induced adiposis   \n",
       "19    5521283                              Anti-obesity proteins   \n",
       "20    5525705                              Anti-obesity proteins   \n",
       "21    5532336                              Anti-obesity proteins   \n",
       "22    5552522                              Anti-obesity proteins   \n",
       "23    5552523                              Anti-obesity proteins   \n",
       "24    5552524                              Anti-obesity proteins   \n",
       "25    5554727                              Anti-obesity proteins   \n",
       "26    5559208                              Anti-obesity proteins   \n",
       "27    5563243                              Anti-obesity proteins   \n",
       "28    5563245                              Anti-obesity proteins   \n",
       "29    5567678                              Anti-obesity proteins   \n",
       "..        ...                                                ...   \n",
       "118   7244727    Fused bicyclic nitrogen-containing heterocycles   \n",
       "119   7279470  Compounds and uses thereof for decreasing acti...   \n",
       "120   7291607                      Isomaltooligosaccharides from   \n",
       "121   7323480  Substituted triazoles as modulators of PPAR an...   \n",
       "122   7342127  Substituted anilide ligands for the thyroid re...   \n",
       "123   7344843  Agonists and antagonists of prolixin for the t...   \n",
       "124   7348338                              PPAR active compounds   \n",
       "125   7361783        (2S)-2-ethylphenylpropionic acid derivative   \n",
       "126   7368433    Peptides and methods for the control of obesity   \n",
       "127   7371759            HMG-CoA reductase inhibitors and method   \n",
       "128   7407674  Lipolysis promoter and food-and-drink and feed...   \n",
       "129   7407954  Thieno-(1,3)-oxazin-4-ones with lipase inhibit...   \n",
       "130   7423156  Preparation and use of aryl alkyl acid derivat...   \n",
       "131   7476746                              PPAR active compounds   \n",
       "132   7482358                              Imidazoline compounds   \n",
       "133   7491831                              PPAR active compounds   \n",
       "134   7495020  2-aryloxy-2-arylalkanoic acids for diabetes an...   \n",
       "135   7538137  1-O-&#x3b2;-D-glucopyranosylgeraniol-10,5-olid...   \n",
       "136   7553502  Formulations of alpha-amylase inhibitors with ...   \n",
       "137   7557143                           Thyroid receptor ligands   \n",
       "138   7572806                              PPAR active compounds   \n",
       "139   7579027  Composition for treating obesity comprising ex...   \n",
       "140   7582633  Azacycloalkane derivatives as inhibitors of st...   \n",
       "141   7592477  Substituted methylene amide derivatives as mod...   \n",
       "142   7618940                                     Fat regulation   \n",
       "143   7635705  Heteroatom-linked substituted piperidines and ...   \n",
       "144   7655690  1-sulfonylindole derivatives, their preparatio...   \n",
       "145   7687085                           Anti-obestic composition   \n",
       "146   7704979  Materials and methods for the treatment or pre...   \n",
       "147   RE39916  Compounds that modulate PPAR activity and meth...   \n",
       "\n",
       "                                                 claim  \\\n",
       "0     A method for the production of an inhibitor o...   \n",
       "1     A pharmaceutical composition comprising an ad...   \n",
       "2     A method of inhibiting the reaction of carboh...   \n",
       "3     A method of treating obesity which comprises ...   \n",
       "4     A fatty acid amide of norfenfluramine having ...   \n",
       "5     A method of countering a tendency toward obes...   \n",
       "6     The method of reducing appetite to obtain wei...   \n",
       "7     A compound of the formula  wherein X is hydro...   \n",
       "8     A pharmaceutical composition comprising, as a...   \n",
       "9     A compound of the formula  their enantiomers ...   \n",
       "10    A method of treating obesity in an animal whi...   \n",
       "11    A material which can be used to make a food a...   \n",
       "12    A method of preventatively treating weight ga...   \n",
       "13    A food additive material which is slowly adso...   \n",
       "14    A method of inhibiting enzymatic hydrolysis o...   \n",
       "15    A composition which inhibits enzymatic hydrol...   \n",
       "16    A method for treating obesity in a mammal to ...   \n",
       "17    A method of improving lipid metabolism in hum...   \n",
       "18    A method of treating obesity caused by hyperi...   \n",
       "19    A biologically active peptide consisting of t...   \n",
       "20    A biologically active peptide of the formula:...   \n",
       "21    A biologically active peptide of the formula:...   \n",
       "22    A biologically active peptide of the formula:...   \n",
       "23    A protein comprising the amino acids of posit...   \n",
       "24    A protein comprising the amino acids of posit...   \n",
       "25    A protein comprising the amino acids of posit...   \n",
       "26    A protein comprising the amino acids of posit...   \n",
       "27    A biologically active peptide of the formula:...   \n",
       "28    A biologically active peptide of the formula:...   \n",
       "29    A protein of the formula: SEQ ID NO: 1 or a p...   \n",
       "..                                                 ...   \n",
       "118   A compound of formula (I):or a pharmaceutical...   \n",
       "119   A compound of formula  wherein E is selected ...   \n",
       "120   A method for inhibiting α-glucosidase in a su...   \n",
       "121   A compound having the formula:wherein  Ar  1 ...   \n",
       "122   A compound having the following Formula I:whe...   \n",
       "123   A method of screening a candidate compound fo...   \n",
       "124   A method for treating a patient suffering fro...   \n",
       "125   A (2S)-2-Ethylphenylpropanoic acid compound r...   \n",
       "126   A peptide derivative having the formula: X  1...   \n",
       "127   A compound of the formulawherein X is N;  R  ...   \n",
       "128   A lipolysis promoter blend comprising a lipol...   \n",
       "129   A compound of formula (Ia)or a pharmaceutical...   \n",
       "130   A compound of Formula (I)wherein  Q is O or S...   \n",
       "131   A compound having the formulaor a pharmaceuti...   \n",
       "132   A compound represented by the general formula...   \n",
       "133   A compound having the formulaor a pharmaceuti...   \n",
       "134   A compound having the formula I:including pha...   \n",
       "135      An isolated compound according to formula (1)   \n",
       "136   A formulation consisting of (i)  Phaseolus vu...   \n",
       "137   A compound of the following formula  wherein ...   \n",
       "138   A method for treating a patient suffering fro...   \n",
       "139   A composition comprising  an extract from whi...   \n",
       "140   A compound of structural formula I:or a pharm...   \n",
       "141   A substituted methylene amide of Formula (I):...   \n",
       "142   A method for treating obesity in an obese sub...   \n",
       "143   A compound represented by the structural form...   \n",
       "144   A sulfonamide of general formula (Ia),  where...   \n",
       "145   A method of inhibiting visceral lipid storage...   \n",
       "146   A method of regulating body weight comprising...   \n",
       "147  . A method of treating or controlling non-insu...   \n",
       "\n",
       "                                              abstract class  \n",
       "0    This invention relates to inhibitors for glyco...   1AA  \n",
       "1    The invention relates to an amylase inhibitor ...   1AA  \n",
       "2    This invention relates to inhibitors for glyco...   1AA  \n",
       "3    A method of preventing obesity which comprises...   1AA  \n",
       "4    Novel amides of norfenfluramine having the for...   1AB  \n",
       "5    The invention involves a method of weight cont...   1BA  \n",
       "6    A method for assisting with appetite and weigh...   1AB  \n",
       "7    A novel class of compounds has been found to b...   1BB  \n",
       "8    A novel class of compounds has been found to b...   1BB  \n",
       "9    This invention relates to novel derivatives of...   1AB  \n",
       "10   An antiobesity and fat-reducing composition an...   1AA  \n",
       "11   A material for food of slow digestive absorpti...   1AA  \n",
       "12   A method for controlling weight gain or promot...   1BD  \n",
       "13   A material for food of slow digestion and abso...   1AA  \n",
       "14   A method of inhibiting enzymatic hydrolysis of...   1BA  \n",
       "15   A lipolytic enzyme inhibitor is disclosed whic...   1BA  \n",
       "16   Disclosed herein are dietary lipid digestion-a...   1BA  \n",
       "17   This invention relates to a lipid metabolism i...   1BD  \n",
       "18   The invention features methods of treating ins...   1BD  \n",
       "19   The present invention provides anti-obesity pr...   1BD  \n",
       "20   The present invention provides anti-obesity pr...   1BD  \n",
       "21   The present invention provides anti-obesity pr...   1BD  \n",
       "22   The present invention provides anti-obesity pr...   1BD  \n",
       "23   The present invention provides anti-obesity pr...   1BD  \n",
       "24   The present invention provides anti-obesity pr...   1BD  \n",
       "25   [PAL  ]The present invention provides anti-obe...   1BD  \n",
       "26   The present invention provides anti-obesity pr...   1BD  \n",
       "27   The present invention provides anti-obesity pr...   1BD  \n",
       "28   The present invention provides anti-obesity pr...   1BD  \n",
       "29   The present invention provides anti-obesity pr...   1BD  \n",
       "..                                                 ...   ...  \n",
       "118  Compounds, pharmaceutical compositions and met...   1BB  \n",
       "119  Use of compounds to inhibit hormone-sensitive ...   1AB  \n",
       "120  Isomaltooligosaccharides (IMOs) produced by  L...   1AA  \n",
       "121  The present invention is directed to certain n...   1BD  \n",
       "122  Novel thyroid receptor ligands are provided ha...   1BC  \n",
       "123  The present invention relates to the field of ...   1BD  \n",
       "124  Compounds are described that are active on PPA...   1BD  \n",
       "125  The invention provides novel (2S)-2-ethylpheny...   1BC  \n",
       "126  The subject invention provides novel peptides ...   1AB  \n",
       "127  Compounds are provided having the following st...   1BB  \n",
       "128  A naturally-derived lipolysis promoter with hi...   1BC  \n",
       "129  The use of a compound comprising formula (I), ...   1BA  \n",
       "130  This invention relates to certain aryl alkyl a...   1BB  \n",
       "131  Compounds are described that are active on PPA...   1BD  \n",
       "132  Compounds represented by the general formula (...   1AB  \n",
       "133  Compounds are described that are active on PPA...   1BD  \n",
       "134  A class of 2-aryloxy-2-arylalkanoic acids comp...   1BD  \n",
       "135  A novel natural compound having various therap...   1BD  \n",
       "136  This invention relates to the combination of &...   1AA  \n",
       "137  Thyroid receptor ligands are provided which ha...   1BC  \n",
       "138  Compounds are described that are active on PPA...   1BD  \n",
       "139  The present invention is for composition conta...   1BD  \n",
       "140  Azacycloalkane derivatives of structural formu...   1BB  \n",
       "141  The present invention is related to substitute...   1BD  \n",
       "142  The present invention provides methods and com...   1BD  \n",
       "143  Disclosed are novel compounds of the formula  ...   1AB  \n",
       "144  The present invention refers to new sulfonamid...   1AB  \n",
       "145  The composition of the present invention compr...   1BB  \n",
       "146  The subject invention provides methods of indu...   1BD  \n",
       "147  This invention discloses compounds that alter ...   1BD  \n",
       "\n",
       "[148 rows x 5 columns]"
      ]
     },
     "execution_count": 8,
     "metadata": {},
     "output_type": "execute_result"
    }
   ],
   "source": [
    "obesity"
   ]
  },
  {
   "cell_type": "code",
   "execution_count": 9,
   "metadata": {
    "collapsed": true
   },
   "outputs": [],
   "source": [
    "# Randomly sample 70% of your dataframe\n",
    "obesity_train = obesity.sample(frac=0.7)  # train data set"
   ]
  },
  {
   "cell_type": "code",
   "execution_count": 10,
   "metadata": {},
   "outputs": [
    {
     "data": {
      "text/plain": [
       "1BD    35\n",
       "1BB    17\n",
       "1AB    17\n",
       "1BA    16\n",
       "1AA    11\n",
       "1BC     8\n",
       "Name: class, dtype: int64"
      ]
     },
     "execution_count": 10,
     "metadata": {},
     "output_type": "execute_result"
    }
   ],
   "source": [
    "obesity_train['class'].value_counts()"
   ]
  },
  {
   "cell_type": "code",
   "execution_count": 11,
   "metadata": {
    "collapsed": true
   },
   "outputs": [],
   "source": [
    "obesity_test = obesity[~obesity.index.isin(obesity_train.index)]  # test data set"
   ]
  },
  {
   "cell_type": "code",
   "execution_count": 12,
   "metadata": {},
   "outputs": [
    {
     "data": {
      "text/plain": [
       "1BD    22\n",
       "1AB    11\n",
       "1BB     5\n",
       "1BA     3\n",
       "1AA     2\n",
       "1BC     1\n",
       "Name: class, dtype: int64"
      ]
     },
     "execution_count": 12,
     "metadata": {},
     "output_type": "execute_result"
    }
   ],
   "source": [
    "obesity_test['class'].value_counts()"
   ]
  },
  {
   "cell_type": "markdown",
   "metadata": {},
   "source": [
    "### Train data merge (Title, abstract, claim 순으로 concat)"
   ]
  },
  {
   "cell_type": "code",
   "execution_count": 13,
   "metadata": {
    "collapsed": true
   },
   "outputs": [],
   "source": [
    "obesity_train_vertical = pd.DataFrame(columns=['index', 'patent_id', 'class', 'text', 'label'])  # 빈 df 생성"
   ]
  },
  {
   "cell_type": "code",
   "execution_count": 14,
   "metadata": {
    "collapsed": true
   },
   "outputs": [],
   "source": [
    "# concat df에 title, abstract, claim 순으로 데이터 넣기 (label, index의 range는 데이터 숫자만큼 알아서 조정)\n",
    "for col in ['title', 'abstract', 'claim']:\n",
    "    concat_df = pd.DataFrame(columns=['index', 'patent_id', 'class', 'text', 'label'])  # title, abstract, claim이 각각 들어갈 임시 df\n",
    "    concat_df['patent_id'] = obesity_train['patent_id']\n",
    "    concat_df['class'] = obesity_train['class']\n",
    "    concat_df['text'] = obesity_train[col]\n",
    "    concat_df['label'] = [str(i)+'_'+col for i in range(obesity_train.shape[0])]\n",
    "    concat_df['index'] = [i for i in range(obesity_train.shape[0])] \n",
    "\n",
    "    # 최종 df(obesity_vertical) 랑 concat 이랑 합침\n",
    "    obesity_train_vertical = obesity_train_vertical.append(concat_df)"
   ]
  },
  {
   "cell_type": "code",
   "execution_count": 15,
   "metadata": {
    "collapsed": true
   },
   "outputs": [],
   "source": [
    "obesity_train_vertical.reset_index(inplace=True) # reset_index"
   ]
  },
  {
   "cell_type": "code",
   "execution_count": 16,
   "metadata": {
    "collapsed": true
   },
   "outputs": [],
   "source": [
    "obesity_train_vertical.drop(['level_0'], axis=1, inplace=True)"
   ]
  },
  {
   "cell_type": "code",
   "execution_count": 17,
   "metadata": {
    "collapsed": true
   },
   "outputs": [],
   "source": [
    "pd.to_pickle(obesity_train_vertical, './obesity_train_vertical.pkl')"
   ]
  },
  {
   "cell_type": "markdown",
   "metadata": {},
   "source": [
    "### Test data merge(title, abstract, claim 순으로 concat)"
   ]
  },
  {
   "cell_type": "code",
   "execution_count": 18,
   "metadata": {
    "collapsed": true
   },
   "outputs": [],
   "source": [
    "obesity_test_vertical = pd.DataFrame(columns=['index', 'patent_id', 'class', 'text', 'label'])  # 빈 df 생성"
   ]
  },
  {
   "cell_type": "code",
   "execution_count": 19,
   "metadata": {
    "collapsed": true
   },
   "outputs": [],
   "source": [
    "# concat df에 title, abstract, claim 순으로 데이터 넣기 (label, index의 range는 데이터 숫자만큼 알아서 조정)\n",
    "for col in ['title', 'abstract', 'claim']:\n",
    "    concat_df = pd.DataFrame(columns=['index', 'patent_id', 'class', 'text', 'label'])  # title, abstract, claim이 각각 들어갈 임시 df\n",
    "    concat_df['patent_id'] = obesity_test['patent_id']\n",
    "    concat_df['class'] = obesity_test['class']\n",
    "    concat_df['text'] = obesity_test[col]\n",
    "    concat_df['label'] = [str(i)+'_'+col for i in range(obesity_test.shape[0])]\n",
    "    concat_df['index'] = [i for i in range(obesity_test.shape[0])] \n",
    "\n",
    "    # 최종 df(obesity_vertical) 랑 concat 이랑 합침\n",
    "    obesity_test_vertical = obesity_test_vertical.append(concat_df)"
   ]
  },
  {
   "cell_type": "code",
   "execution_count": 20,
   "metadata": {
    "collapsed": true
   },
   "outputs": [],
   "source": [
    "pd.to_pickle(obesity_test_vertical, './obesity_test_vertical.pkl')"
   ]
  },
  {
   "cell_type": "markdown",
   "metadata": {},
   "source": [
    "### Embedding"
   ]
  },
  {
   "cell_type": "code",
   "execution_count": 27,
   "metadata": {
    "collapsed": true
   },
   "outputs": [],
   "source": [
    "abstract2vec = text2vec(filename='obesity_train_vertical.pkl', class_name='obesity_glove', model='glove', n_dim=100, )"
   ]
  },
  {
   "cell_type": "code",
   "execution_count": 28,
   "metadata": {
    "collapsed": true
   },
   "outputs": [],
   "source": [
    "model, X = abstract2vec.train_glove()"
   ]
  },
  {
   "cell_type": "code",
   "execution_count": 31,
   "metadata": {},
   "outputs": [
    {
     "data": {
      "text/plain": [
       "(312, 100)"
      ]
     },
     "execution_count": 31,
     "metadata": {},
     "output_type": "execute_result"
    }
   ],
   "source": [
    "X.shape"
   ]
  },
  {
   "cell_type": "code",
   "execution_count": 48,
   "metadata": {},
   "outputs": [
    {
     "data": {
      "text/plain": [
       "array([[ True,  True,  True, ...,  True,  True,  True],\n",
       "       [ True,  True,  True, ...,  True,  True,  True],\n",
       "       [ True,  True,  True, ...,  True,  True,  True],\n",
       "       ...,\n",
       "       [ True,  True,  True, ...,  True,  True,  True],\n",
       "       [ True,  True,  True, ...,  True,  True,  True],\n",
       "       [ True,  True,  True, ...,  True,  True,  True]])"
      ]
     },
     "execution_count": 48,
     "metadata": {},
     "output_type": "execute_result"
    }
   ],
   "source": []
  },
  {
   "cell_type": "code",
   "execution_count": 32,
   "metadata": {},
   "outputs": [
    {
     "ename": "AttributeError",
     "evalue": "'Glove' object has no attribute 'docvecs'",
     "output_type": "error",
     "traceback": [
      "\u001b[0;31m---------------------------------------------------------------------------\u001b[0m",
      "\u001b[0;31mAttributeError\u001b[0m                            Traceback (most recent call last)",
      "\u001b[0;32m<ipython-input-32-47e2a1582137>\u001b[0m in \u001b[0;36m<module>\u001b[0;34m()\u001b[0m\n\u001b[0;32m----> 1\u001b[0;31m \u001b[0mmodel\u001b[0m\u001b[0;34m.\u001b[0m\u001b[0mdocvecs\u001b[0m\u001b[0;34m.\u001b[0m\u001b[0msave\u001b[0m\u001b[0;34m(\u001b[0m\u001b[0;34m\"obesity_glove.model\"\u001b[0m\u001b[0;34m)\u001b[0m\u001b[0;34m\u001b[0m\u001b[0m\n\u001b[0m",
      "\u001b[0;31mAttributeError\u001b[0m: 'Glove' object has no attribute 'docvecs'"
     ]
    }
   ],
   "source": [
    "model.docvecs.save(\"obesity_glove.model\")"
   ]
  },
  {
   "cell_type": "code",
   "execution_count": 24,
   "metadata": {
    "collapsed": true
   },
   "outputs": [],
   "source": [
    "title = X[:104]\n",
    "abstract = X[104:208]\n",
    "claim = X[208:]"
   ]
  },
  {
   "cell_type": "code",
   "execution_count": 25,
   "metadata": {
    "collapsed": true
   },
   "outputs": [],
   "source": [
    "train = pickle.load(open('./obesity_train_vertical.pkl', 'rb'))"
   ]
  },
  {
   "cell_type": "code",
   "execution_count": 26,
   "metadata": {
    "collapsed": true
   },
   "outputs": [],
   "source": [
    "train_class = train[:104]['class']"
   ]
  },
  {
   "cell_type": "code",
   "execution_count": 27,
   "metadata": {},
   "outputs": [
    {
     "name": "stdout",
     "output_type": "stream",
     "text": [
      "title\n",
      "train_title_obesity.npy Save\n",
      "abstract\n",
      "train_abstract_obesity.npy Save\n",
      "claim\n",
      "train_claim_obesity.npy Save\n"
     ]
    }
   ],
   "source": [
    "col_dict = {'title': title, 'abstract': abstract, 'claim': claim}\n",
    "for col in col_dict:\n",
    "    print(col)\n",
    "    for i in train_class.index:\n",
    "        col_dict[col][i] = np.append(col_dict[col][i], train_class[i])\n",
    "    np.save('glove_train_'+col+\"_obesity.npy\", col_dict[col])\n",
    "    print('glove_train_'+col+\"_obesity.npy Save\")"
   ]
  },
  {
   "cell_type": "code",
   "execution_count": 28,
   "metadata": {
    "collapsed": true
   },
   "outputs": [],
   "source": [
    "test = pickle.load(open('./obesity_test_vertical.pkl', 'rb'))"
   ]
  },
  {
   "cell_type": "code",
   "execution_count": 32,
   "metadata": {
    "collapsed": true
   },
   "outputs": [],
   "source": [
    "test_class = test[104:]['class']"
   ]
  },
  {
   "cell_type": "code",
   "execution_count": 33,
   "metadata": {},
   "outputs": [
    {
     "name": "stdout",
     "output_type": "stream",
     "text": [
      "title\n",
      "31\n",
      "34\n",
      "36\n",
      "42\n",
      "43\n",
      "50\n",
      "53\n",
      "59\n",
      "66\n",
      "69\n",
      "73\n",
      "77\n",
      "78\n",
      "82\n",
      "91\n",
      "99\n",
      "100\n",
      "101\n",
      "106\n"
     ]
    },
    {
     "ename": "IndexError",
     "evalue": "list index out of range",
     "output_type": "error",
     "traceback": [
      "\u001b[0;31m---------------------------------------------------------------------------\u001b[0m",
      "\u001b[0;31mIndexError\u001b[0m                                Traceback (most recent call last)",
      "\u001b[0;32m<ipython-input-33-d9687c1f3a72>\u001b[0m in \u001b[0;36m<module>\u001b[0;34m()\u001b[0m\n\u001b[1;32m      4\u001b[0m     \u001b[0;32mfor\u001b[0m \u001b[0mi\u001b[0m \u001b[0;32min\u001b[0m \u001b[0mtest_class\u001b[0m\u001b[0;34m.\u001b[0m\u001b[0mindex\u001b[0m\u001b[0;34m:\u001b[0m\u001b[0;34m\u001b[0m\u001b[0m\n\u001b[1;32m      5\u001b[0m         \u001b[0mprint\u001b[0m\u001b[0;34m(\u001b[0m\u001b[0mi\u001b[0m\u001b[0;34m)\u001b[0m\u001b[0;34m\u001b[0m\u001b[0m\n\u001b[0;32m----> 6\u001b[0;31m         \u001b[0mcol_dict_test\u001b[0m\u001b[0;34m[\u001b[0m\u001b[0mcol\u001b[0m\u001b[0;34m]\u001b[0m\u001b[0;34m[\u001b[0m\u001b[0mi\u001b[0m\u001b[0;34m]\u001b[0m \u001b[0;34m=\u001b[0m \u001b[0mnp\u001b[0m\u001b[0;34m.\u001b[0m\u001b[0mappend\u001b[0m\u001b[0;34m(\u001b[0m\u001b[0mcol_dict_test\u001b[0m\u001b[0;34m[\u001b[0m\u001b[0mcol\u001b[0m\u001b[0;34m]\u001b[0m\u001b[0;34m[\u001b[0m\u001b[0mi\u001b[0m\u001b[0;34m]\u001b[0m\u001b[0;34m,\u001b[0m \u001b[0mtest_class\u001b[0m\u001b[0;34m[\u001b[0m\u001b[0mi\u001b[0m\u001b[0;34m]\u001b[0m\u001b[0;34m)\u001b[0m\u001b[0;34m\u001b[0m\u001b[0m\n\u001b[0m\u001b[1;32m      7\u001b[0m     \u001b[0mnp\u001b[0m\u001b[0;34m.\u001b[0m\u001b[0msave\u001b[0m\u001b[0;34m(\u001b[0m\u001b[0;34m'test_'\u001b[0m\u001b[0;34m+\u001b[0m\u001b[0mcol\u001b[0m\u001b[0;34m+\u001b[0m\u001b[0;34m\"_obesity.npy\"\u001b[0m\u001b[0;34m,\u001b[0m \u001b[0mcol_dict_test\u001b[0m\u001b[0;34m[\u001b[0m\u001b[0mcol\u001b[0m\u001b[0;34m]\u001b[0m\u001b[0;34m)\u001b[0m\u001b[0;34m\u001b[0m\u001b[0m\n\u001b[1;32m      8\u001b[0m     \u001b[0mprint\u001b[0m\u001b[0;34m(\u001b[0m\u001b[0;34m'test_'\u001b[0m\u001b[0;34m+\u001b[0m\u001b[0mcol\u001b[0m\u001b[0;34m+\u001b[0m\u001b[0;34m\"_obesity.npy Save\"\u001b[0m\u001b[0;34m)\u001b[0m\u001b[0;34m\u001b[0m\u001b[0m\n",
      "\u001b[0;31mIndexError\u001b[0m: list index out of range"
     ]
    }
   ],
   "source": [
    "col_dict_test = {'title': title, 'abstract': abstract, 'claim': claim}\n",
    "for col in col_dict_test:\n",
    "    print(col)\n",
    "    for i in test_class.index:\n",
    "        print(i)\n",
    "        col_dict_test[col][i] = np.append(col_dict_test[col][i], test_class[i])\n",
    "    np.save('glove_test_'+col+\"_obesity.npy\", col_dict_test[col])\n",
    "    print('glove_test_'+col+\"_obesity.npy Save\")"
   ]
  },
  {
   "cell_type": "code",
   "execution_count": 34,
   "metadata": {
    "collapsed": true
   },
   "outputs": [],
   "source": [
    "def clean_text(filename):\n",
    "    import re\n",
    "    from nltk.corpus import stopwords\n",
    "    from nltk.tokenize import word_tokenize\n",
    "    import string\n",
    "    df = pd.read_pickle(filename)\n",
    "    abstract = df[\"text\"]\n",
    "    labels = df.patent_id\n",
    "        \n",
    "    re_punc = re.compile(\"[%s]\" % re.escape(string.punctuation))\n",
    "    text_concat = [re_punc.sub(\"\", text.lower()) for text in abstract]\n",
    "\n",
    "    stop_words = set(stopwords.words('english'))\n",
    "    word_tokens = [word_tokenize(text) for text in text_concat]\n",
    "\n",
    "    word_tokens = [[w for w in row if(w not in stop_words)] for row in word_tokens]\n",
    "    filtered_sentence = [[w for w in row if(w.strip() != \"\")] for row in word_tokens]\n",
    "        \n",
    "    cleaned_text = [row for row in filtered_sentence]\n",
    "\n",
    "    return cleaned_text"
   ]
  },
  {
   "cell_type": "markdown",
   "metadata": {},
   "source": [
    "### 아래는 테스트 임베딩 하는 거"
   ]
  },
  {
   "cell_type": "code",
   "execution_count": 35,
   "metadata": {
    "collapsed": true
   },
   "outputs": [],
   "source": [
    "test_word_list = clean_text('./obesity_test_vertical.pkl')"
   ]
  },
  {
   "cell_type": "code",
   "execution_count": 36,
   "metadata": {},
   "outputs": [
    {
     "data": {
      "text/plain": [
       "132"
      ]
     },
     "execution_count": 36,
     "metadata": {},
     "output_type": "execute_result"
    }
   ],
   "source": [
    "len(test_word_list)"
   ]
  },
  {
   "cell_type": "code",
   "execution_count": 37,
   "metadata": {
    "collapsed": true
   },
   "outputs": [],
   "source": [
    "test_title = test_word_list[:44]\n",
    "test_abstract = test_word_list[44:88]\n",
    "test_claim = test_word_list[88:]"
   ]
  },
  {
   "cell_type": "code",
   "execution_count": 38,
   "metadata": {},
   "outputs": [
    {
     "name": "stdout",
     "output_type": "stream",
     "text": [
      "title\n",
      "test_title_obesity.npy Save\n",
      "abstract\n",
      "test_abstract_obesity.npy Save\n",
      "claim\n",
      "test_claim_obesity.npy Save\n"
     ]
    }
   ],
   "source": [
    "# vectorization 하는 코드\n",
    "test_col_dict = {'title': test_title, 'abstract': test_abstract, 'claim': test_claim}\n",
    "for col in test_col_dict:\n",
    "    print(col)\n",
    "    infer_list = []\n",
    "    for i in range(len(test_title)):\n",
    "        tmp = model.infer_vector(doc_words=test_col_dict[col][i])\n",
    "        infer_list.append(tmp)\n",
    "    np.save(\"glove_test_\"+col+\"_obesity.npy\", infer_list)\n",
    "    print(\"glove_test_\"+col+\"_obesity.npy Save\")"
   ]
  },
  {
   "cell_type": "code",
   "execution_count": 39,
   "metadata": {},
   "outputs": [
    {
     "ename": "IndentationError",
     "evalue": "unexpected indent (<ipython-input-39-c3fd5812dade>, line 2)",
     "output_type": "error",
     "traceback": [
      "\u001b[0;36m  File \u001b[0;32m\"<ipython-input-39-c3fd5812dade>\"\u001b[0;36m, line \u001b[0;32m2\u001b[0m\n\u001b[0;31m    stop_words = set(stopwords.words('english'))\u001b[0m\n\u001b[0m    ^\u001b[0m\n\u001b[0;31mIndentationError\u001b[0m\u001b[0;31m:\u001b[0m unexpected indent\n"
     ]
    }
   ],
   "source": [
    "# + text2vec0.py 파일에  text_preproce~~ 수정해야 할 부분 (stopword 제대로 안날아감)\n",
    "        stop_words = set(stopwords.words('english'))\n",
    "        word_tokens = [word_tokenize(text) for text in text_concat]\n",
    "\n",
    "        word_tokens = [[w for w in row if(w not in stop_words)] for row in word_tokens]\n",
    "        filtered_sentence = [[w for w in row if(w.strip() != \"\")] for row in word_tokens]\n",
    "####################여기 위에까지가 내가 다시 전처리한 코드! ############################################"
   ]
  },
  {
   "cell_type": "code",
   "execution_count": 40,
   "metadata": {
    "collapsed": true
   },
   "outputs": [],
   "source": [
    "test = pickle.load(open('./obesity_test_vertical.pkl', 'rb'))"
   ]
  },
  {
   "cell_type": "code",
   "execution_count": 41,
   "metadata": {
    "collapsed": true
   },
   "outputs": [],
   "source": [
    "test.reset_index(inplace=True)"
   ]
  },
  {
   "cell_type": "code",
   "execution_count": 42,
   "metadata": {
    "collapsed": true
   },
   "outputs": [],
   "source": [
    "test_class = test[:44]['class']"
   ]
  },
  {
   "cell_type": "code",
   "execution_count": 43,
   "metadata": {
    "collapsed": true
   },
   "outputs": [],
   "source": [
    "test_abstract = np.load('./test_abstract_obesity.npy')\n",
    "tmp = np.array([]).reshape(-1, 101)\n",
    "for i in test_class.index:\n",
    "    a = np.hstack((test_abstract[i], test_class[i]))\n",
    "    tmp = np.vstack((tmp, a))\n",
    "np.save(\"test_abstract_obesity.npy\", tmp)"
   ]
  },
  {
   "cell_type": "code",
   "execution_count": 44,
   "metadata": {
    "collapsed": true
   },
   "outputs": [],
   "source": [
    "test_title = np.load('./test_title_obesity.npy')\n",
    "tmp = np.array([]).reshape(-1, 101)\n",
    "for i in test_class.index:\n",
    "    a = np.hstack((test_title[i], test_class[i]))\n",
    "    tmp = np.vstack((tmp, a))\n",
    "np.save(\"test_title_obesity.npy\", tmp)"
   ]
  },
  {
   "cell_type": "code",
   "execution_count": 45,
   "metadata": {
    "collapsed": true
   },
   "outputs": [],
   "source": [
    "test_claim = np.load('./test_claim_obesity.npy')\n",
    "tmp = np.array([]).reshape(-1, 101)\n",
    "for i in test_class.index:\n",
    "    a = np.hstack((test_claim[i], test_class[i]))\n",
    "    tmp = np.vstack((tmp, a))\n",
    "np.save(\"test_claim_obesity.npy\", tmp)"
   ]
  },
  {
   "cell_type": "code",
   "execution_count": null,
   "metadata": {
    "collapsed": true
   },
   "outputs": [],
   "source": []
  },
  {
   "cell_type": "code",
   "execution_count": null,
   "metadata": {
    "collapsed": true
   },
   "outputs": [],
   "source": []
  },
  {
   "cell_type": "code",
   "execution_count": 46,
   "metadata": {
    "collapsed": true
   },
   "outputs": [],
   "source": [
    "def embedding_graph(X, y_predict):\n",
    "    style.use(\"ggplot\")\n",
    "    N = 6\n",
    "    colors = ['r', 'g', 'b', 'y', 'pink', 'gray']\n",
    "    color_list = [colors[y] for y in y_predict]\n",
    "\n",
    "    from sklearn.manifold import TSNE\n",
    "    tsne = TSNE(n_components=3).fit(X)\n",
    "    X_embedded = tsne.fit_transform(X)\n",
    "\n",
    "    plt.scatter(X_embedded[:, 0], X_embedded[:, 1], c=color_list, s=10, cmap='viridis')\n",
    "    plt.show()"
   ]
  },
  {
   "cell_type": "code",
   "execution_count": 47,
   "metadata": {
    "collapsed": true
   },
   "outputs": [],
   "source": [
    "from sklearn.mixture import GaussianMixture\n",
    "\n",
    "def predict(X):\n",
    "#     kmeans = KMeans(n_clusters=6, random_state=0).fit(X)\n",
    "#     y_predict = kmeans.predict(X)\n",
    "    \n",
    "    from sklearn.mixture import GaussianMixture\n",
    "\n",
    "    gmm = GaussianMixture(\n",
    "            n_components=6, covariance_type='diag').fit(X)\n",
    "\n",
    "    y_predict = gmm.predict(X)\n",
    "\n",
    "    return y_predict\n",
    "\n",
    "def accuracy(y_predict, Y):\n",
    "    y_true=np.array(Y)\n",
    "    assert y_predict.size == y_true.size\n",
    "\n",
    "    D = int(max(y_predict.max(), y_true.max())+1)\n",
    "    w = np.zeros((D, D), dtype=np.int64)\n",
    "    for i in range(y_predict.shape[0]):\n",
    "#         print(y_predict.shape, y_true.shape)\n",
    "        w[(y_predict[i]).astype('int64'), y_true[i]] += 1\n",
    "\n",
    "    ind = linear_assignment(w.max() - w)\n",
    "    accuracy = sum([w[i, j] for i, j in ind])*1.0/y_predict.size, w\n",
    "    return accuracy[0]"
   ]
  },
  {
   "cell_type": "code",
   "execution_count": 48,
   "metadata": {
    "collapsed": true
   },
   "outputs": [],
   "source": [
    "def get_top_score(X, iteration=20):\n",
    "    top_score = 0\n",
    "    for _ in range(iteration):\n",
    "        y_predict = predict(X)\n",
    "        score = accuracy(y_predict, Y)\n",
    "        print(score)\n",
    "        if top_score < score:\n",
    "            top_score = score\n",
    "    return top_score"
   ]
  },
  {
   "cell_type": "code",
   "execution_count": null,
   "metadata": {
    "collapsed": true
   },
   "outputs": [],
   "source": []
  },
  {
   "cell_type": "code",
   "execution_count": 49,
   "metadata": {
    "collapsed": true
   },
   "outputs": [],
   "source": [
    "x = np.concatenate([test_title,test_abstract,test_claim])"
   ]
  },
  {
   "cell_type": "code",
   "execution_count": 50,
   "metadata": {
    "collapsed": true
   },
   "outputs": [],
   "source": [
    "predict_y = predict(X)"
   ]
  },
  {
   "cell_type": "code",
   "execution_count": 51,
   "metadata": {},
   "outputs": [
    {
     "data": {
      "text/plain": [
       "(312, 6)"
      ]
     },
     "execution_count": 51,
     "metadata": {},
     "output_type": "execute_result"
    }
   ],
   "source": [
    "(np.eye(6)[predict_y]).shape"
   ]
  },
  {
   "cell_type": "code",
   "execution_count": 52,
   "metadata": {
    "collapsed": true
   },
   "outputs": [],
   "source": [
    "Y = train['class'].str.get_dummies()\n",
    "Y.columns = [0,1,2,3,4,5]\n",
    "Y = Y.idxmax(axis=1)"
   ]
  },
  {
   "cell_type": "code",
   "execution_count": 53,
   "metadata": {},
   "outputs": [
    {
     "name": "stdout",
     "output_type": "stream",
     "text": [
      "0.34294871794871795\n",
      "0.3301282051282051\n",
      "0.32371794871794873\n",
      "0.32051282051282054\n",
      "0.3173076923076923\n",
      "0.3333333333333333\n",
      "0.34294871794871795\n",
      "0.3141025641025641\n",
      "0.3108974358974359\n",
      "0.3269230769230769\n",
      "0.3301282051282051\n",
      "0.32371794871794873\n",
      "0.33653846153846156\n",
      "0.33974358974358976\n",
      "0.3173076923076923\n",
      "0.3333333333333333\n",
      "0.33974358974358976\n",
      "0.3301282051282051\n",
      "0.3525641025641026\n",
      "0.4166666666666667\n"
     ]
    },
    {
     "data": {
      "text/plain": [
       "0.4166666666666667"
      ]
     },
     "execution_count": 53,
     "metadata": {},
     "output_type": "execute_result"
    }
   ],
   "source": [
    "get_top_score(X, iteration=20)"
   ]
  },
  {
   "cell_type": "code",
   "execution_count": 54,
   "metadata": {},
   "outputs": [
    {
     "data": {
      "text/plain": [
       "array([0, 0, 0, 0, 0, 0, 0, 0, 0, 0, 0, 5, 0, 0, 0, 0, 0, 0, 0, 5, 0, 0,\n",
       "       0, 0, 0, 0, 0, 5, 0, 0, 0, 0, 0, 0, 0, 5, 0, 0, 5, 0, 0, 0, 0, 0,\n",
       "       0, 0, 5, 0, 0, 5, 0, 0, 0, 0, 0, 0, 0, 5, 0, 0, 0, 0, 0, 0, 0, 0,\n",
       "       0, 0, 0, 0, 5, 0, 0, 0, 0, 5, 0, 0, 0, 0, 0, 0, 0, 0, 0, 0, 0, 0,\n",
       "       0, 0, 0, 0, 0, 0, 0, 0, 5, 0, 0, 0, 0, 0, 0, 0, 5, 5, 5, 0, 5, 5,\n",
       "       0, 1, 5, 1, 5, 1, 5, 1, 1, 5, 0, 1, 5, 5, 5, 0, 0, 5, 5, 0, 5, 1,\n",
       "       5, 1, 5, 5, 5, 5, 1, 5, 5, 5, 1, 0, 5, 5, 5, 0, 5, 0, 5, 5, 5, 5,\n",
       "       5, 5, 5, 0, 5, 1, 5, 1, 5, 1, 5, 5, 5, 0, 5, 5, 5, 1, 0, 5, 5, 1,\n",
       "       5, 5, 5, 5, 0, 5, 0, 5, 1, 5, 5, 5, 5, 5, 1, 5, 1, 5, 1, 0, 1, 5,\n",
       "       5, 0, 1, 0, 0, 5, 1, 1, 5, 1, 1, 5, 1, 1, 5, 5, 0, 1, 0, 5, 1, 5,\n",
       "       0, 1, 5, 5, 5, 5, 1, 1, 1, 0, 0, 5, 5, 5, 5, 5, 0, 0, 1, 1, 5, 1,\n",
       "       1, 1, 5, 1, 1, 1, 5, 1, 1, 5, 5, 0, 1, 5, 1, 1, 5, 1, 1, 0, 5, 0,\n",
       "       4, 5, 5, 1, 1, 1, 0, 5, 2, 5, 5, 5, 5, 5, 5, 5, 1, 1, 1, 5, 0, 1,\n",
       "       0, 1, 1, 1, 5, 5, 0, 2, 5, 1, 5, 5, 5, 0, 3, 5, 5, 1, 5, 0, 1, 5,\n",
       "       1, 1, 1, 1])"
      ]
     },
     "execution_count": 54,
     "metadata": {},
     "output_type": "execute_result"
    }
   ],
   "source": [
    "predict_y"
   ]
  },
  {
   "cell_type": "code",
   "execution_count": 55,
   "metadata": {},
   "outputs": [
    {
     "data": {
      "text/plain": [
       "array([0, 0, 0, 0, 0, 0, 0, 0, 0, 0, 0, 5, 0, 0, 0, 0, 0, 0, 0, 5, 0, 0,\n",
       "       0, 0, 0, 0, 0, 5, 0, 0, 0, 0, 0, 0, 0, 5, 0, 0, 5, 0, 0, 0, 0, 0,\n",
       "       0, 0, 5, 0, 0, 5, 0, 0, 0, 0, 0, 0, 0, 5, 0, 0, 0, 0, 0, 0, 0, 0,\n",
       "       0, 0, 0, 0, 5, 0, 0, 0, 0, 5, 0, 0, 0, 0, 0, 0, 0, 0, 0, 0, 0, 0,\n",
       "       0, 0, 0, 0, 0, 0, 0, 0, 5, 0, 0, 0, 0, 0, 0, 0, 5, 5, 5, 0, 5, 5,\n",
       "       0, 1, 5, 1, 5, 1, 5, 1, 1, 5, 0, 1, 5, 5, 5, 0, 0, 5, 5, 0, 5, 1,\n",
       "       5, 1, 5, 5, 5, 5, 1, 5, 5, 5, 1, 0, 5, 5, 5, 0, 5, 0, 5, 5, 5, 5,\n",
       "       5, 5, 5, 0, 5, 1, 5, 1, 5, 1, 5, 5, 5, 0, 5, 5, 5, 1, 0, 5, 5, 1,\n",
       "       5, 5, 5, 5, 0, 5, 0, 5, 1, 5, 5, 5, 5, 5, 1, 5, 1, 5, 1, 0, 1, 5,\n",
       "       5, 0, 1, 0, 0, 5, 1, 1, 5, 1, 1, 5, 1, 1, 5, 5, 0, 1, 0, 5, 1, 5,\n",
       "       0, 1, 5, 5, 5, 5, 1, 1, 1, 0, 0, 5, 5, 5, 5, 5, 0, 0, 1, 1, 5, 1,\n",
       "       1, 1, 5, 1, 1, 1, 5, 1, 1, 5, 5, 0, 1, 5, 1, 1, 5, 1, 1, 0, 5, 0,\n",
       "       4, 5, 5, 1, 1, 1, 0, 5, 2, 5, 5, 5, 5, 5, 5, 5, 1, 1, 1, 5, 0, 1,\n",
       "       0, 1, 1, 1, 5, 5, 0, 2, 5, 1, 5, 5, 5, 0, 3, 5, 5, 1, 5, 0, 1, 5,\n",
       "       1, 1, 1, 1])"
      ]
     },
     "execution_count": 55,
     "metadata": {},
     "output_type": "execute_result"
    }
   ],
   "source": [
    "predict_y"
   ]
  },
  {
   "cell_type": "code",
   "execution_count": 58,
   "metadata": {},
   "outputs": [
    {
     "data": {
      "text/plain": [
       "0.3301282051282051"
      ]
     },
     "execution_count": 58,
     "metadata": {},
     "output_type": "execute_result"
    }
   ],
   "source": [
    "accuracy(predict_y, Y)"
   ]
  },
  {
   "cell_type": "code",
   "execution_count": 59,
   "metadata": {},
   "outputs": [
    {
     "data": {
      "image/png": "[encoded data removed]",
      "text/plain": [
       "<matplotlib.figure.Figure at 0x7f43bc3de9b0>"
      ]
     },
     "metadata": {},
     "output_type": "display_data"
    }
   ],
   "source": [
    "embedding_graph(x, predict_y)"
   ]
  },
  {
   "cell_type": "code",
   "execution_count": 1,
   "metadata": {
    "collapsed": true
   },
   "outputs": [],
   "source": [
    "\n",
    "import network2vec"
   ]
  },
  {
   "cell_type": "code",
   "execution_count": 2,
   "metadata": {
    "collapsed": true
   },
   "outputs": [],
   "source": [
    "from network2vec import network2vec\n"
   ]
  },
  {
   "cell_type": "code",
   "execution_count": null,
   "metadata": {
    "collapsed": true
   },
   "outputs": [],
   "source": []
  },
  {
   "cell_type": "code",
   "execution_count": 4,
   "metadata": {},
   "outputs": [
    {
     "ename": "NameError",
     "evalue": "name 'label' is not defined",
     "output_type": "error",
     "traceback": [
      "\u001b[0;31m---------------------------------------------------------------------------\u001b[0m",
      "\u001b[0;31mNameError\u001b[0m                                 Traceback (most recent call last)",
      "\u001b[0;32m<ipython-input-4-8bb73bb81615>\u001b[0m in \u001b[0;36m<module>\u001b[0;34m()\u001b[0m\n\u001b[0;32m----> 1\u001b[0;31m net2vec = network2vec(labels=label,\n\u001b[0m\u001b[1;32m      2\u001b[0m                     \u001b[0mmodel\u001b[0m\u001b[0;34m=\u001b[0m\u001b[0;34m'doc2vec'\u001b[0m\u001b[0;34m,\u001b[0m \u001b[0mfilename\u001b[0m\u001b[0;34m=\u001b[0m\u001b[0;34m'pickles/obesity_4digit_ipc.pkl'\u001b[0m\u001b[0;34m,\u001b[0m\u001b[0;34m\u001b[0m\u001b[0m\n\u001b[1;32m      3\u001b[0m                     class_name='ipc', is_network=False)\n",
      "\u001b[0;31mNameError\u001b[0m: name 'label' is not defined"
     ]
    }
   ],
   "source": [
    "net2vec = network2vec(labels=label,\n",
    "                    model='doc2vec', filename='pickles/obesity_4digit_ipc.pkl',\n",
    "                    class_name='ipc', is_network=False)"
   ]
  },
  {
   "cell_type": "code",
   "execution_count": null,
   "metadata": {
    "collapsed": true
   },
   "outputs": [],
   "source": []
  }
 ],
 "metadata": {
  "kernelspec": {
   "display_name": "Python 3",
   "language": "python",
   "name": "python3"
  },
  "language_info": {
   "codemirror_mode": {
    "name": "ipython",
    "version": 3
   },
   "file_extension": ".py",
   "mimetype": "text/x-python",
   "name": "python",
   "nbconvert_exporter": "python",
   "pygments_lexer": "ipython3",
   "version": "3.5.3"
  }
 },
 "nbformat": 4,
 "nbformat_minor": 2
}
